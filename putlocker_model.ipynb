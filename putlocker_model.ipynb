{
 "cells": [
  {
   "cell_type": "code",
   "execution_count": 1,
   "id": "xYzOKIJiFjVR",
   "metadata": {
    "colab": {
     "base_uri": "https://localhost:8080/"
    },
    "executionInfo": {
     "elapsed": 490,
     "status": "ok",
     "timestamp": 1624565483016,
     "user": {
      "displayName": "andrew samanika",
      "photoUrl": "",
      "userId": "06207910559096054821"
     },
     "user_tz": -120
    },
    "id": "xYzOKIJiFjVR",
    "outputId": "c38c18bc-fa42-400f-ed0b-dfbd92cad169"
   },
   "outputs": [],
   "source": [
    "#from google.colab import drive\n",
    "#drive.mount('/content/drive')"
   ]
  },
  {
   "cell_type": "code",
   "execution_count": 2,
   "id": "c628e993",
   "metadata": {
    "executionInfo": {
     "elapsed": 1266,
     "status": "ok",
     "timestamp": 1624565485003,
     "user": {
      "displayName": "andrew samanika",
      "photoUrl": "",
      "userId": "06207910559096054821"
     },
     "user_tz": -120
    },
    "id": "c628e993"
   },
   "outputs": [],
   "source": [
    "import pandas as pd\n",
    "from matplotlib import pyplot as plt\n",
    "from sklearn.model_selection import train_test_split\n",
    "from sklearn.preprocessing import LabelEncoder\n",
    "from sklearn.preprocessing import OneHotEncoder\n",
    "import numpy as np\n",
    "from sklearn.metrics import accuracy_score,roc_auc_score\n",
    "import xgboost as xgb\n",
    "from sklearn.metrics import mean_squared_error\n",
    "from sklearn.tree import DecisionTreeClassifier\n",
    "import pickle\n",
    "\n",
    "from sklearn.model_selection import GridSearchCV,cross_validate   \n",
    "\n",
    "import matplotlib.pylab as plt\n",
    "%matplotlib inline\n",
    "from matplotlib.pylab import rcParams"
   ]
  },
  {
   "cell_type": "code",
   "execution_count": 3,
   "id": "sSbchW9oSiv-",
   "metadata": {
    "executionInfo": {
     "elapsed": 31,
     "status": "ok",
     "timestamp": 1624565485007,
     "user": {
      "displayName": "andrew samanika",
      "photoUrl": "",
      "userId": "06207910559096054821"
     },
     "user_tz": -120
    },
    "id": "sSbchW9oSiv-"
   },
   "outputs": [],
   "source": [
    "#putlocker scraper takes approximately 5 minutes-> max to complete on local runtime\n",
    "def scrape_putlocker():\n",
    "  genre_pages_links=[]\n",
    "  movie_titles=[]#\n",
    "  watch_links=[]\n",
    "  movie_ids=[]\n",
    "  genres=[]#done\n",
    "  try:\n",
    "    url='https://w5.putlocker.to/movies'\n",
    "    content=requests.get(url).text\n",
    "    web_soup=BeautifulSoup(content,\"html.parser\")\n",
    "    for page_link in web_soup.find('ul',class_='sub-menu').find_all('a'):\n",
    "      genre_pages_links.append(page_link['href'])\n",
    "    id_=0\n",
    "    #generalization for whole website\n",
    "    for link in genre_pages_links:\n",
    "      #test code for 1 genre\n",
    "      genre_link=link\n",
    "      content=requests.get(genre_link).text\n",
    "      genre_soup=BeautifulSoup(content,\"html.parser\")\n",
    "      if genre_soup.find('nav') is not None:\n",
    "        int_of_last_page=int(genre_soup.find('nav').find_all('a')[-1]['href'].split('/page/')[1])\n",
    "        pages_required_per_genre=10\n",
    "        for page_count in range(pages_required_per_genre+1):\n",
    "          page_url=genre_soup.find('nav').find_all('a')[-1]['href'].split('/page/')[0]+'/page/{}'.format(page_count)\n",
    "          content=requests.get(page_url).text\n",
    "          page_soup=BeautifulSoup(content,\"html.parser\")\n",
    "          #code for each page\n",
    "          for div_ in page_soup.find_all('div',class_='ml-item'):\n",
    "            genre_=genre_link.split('/genre/')[1]\n",
    "            title_=div_.find('h2').text\n",
    "            watch_link_=div_.find('a')['href']\n",
    "            #append movie data to lists\n",
    "            genres.append(genre_)\n",
    "            movie_titles.append(title_)\n",
    "            watch_links.append(watch_link_)  \n",
    "            movie_ids.append(id_) \n",
    "            id_=id_+1        \n",
    "      else:\n",
    "        pass\n",
    "    putlocker_data={\n",
    "          \"movie_id\":movie_ids,\n",
    "          \"title\":movie_titles,\n",
    "          \"genre\":genres,\n",
    "          \"watch_link\":watch_links \n",
    "    }\n",
    "    putlocker_df=pd.DataFrame(putlocker_data)\n",
    "    putlocker_df.drop_duplicates(subset='title',keep='last',inplace=False)\n",
    "    #putlocker_df.head(10)\n",
    "    #write to csv\n",
    "    putlocker_df.to_csv('putlocker_movies.csv',index=False)\n",
    "    !cp putlocker_movies.csv \"AI_development_and_evaluation\"\n",
    "    return putlocker_df\n",
    "  except:\n",
    "    with open('putlocker_movies.csv','r') as f:\n",
    "      try:\n",
    "        putlocker_df=pd.read_csv(f)\n",
    "      except:\n",
    "        pass\n",
    "  return putlocker_df"
   ]
  },
  {
   "cell_type": "code",
   "execution_count": 4,
   "id": "C7NE2HftSmFF",
   "metadata": {
    "executionInfo": {
     "elapsed": 27,
     "status": "ok",
     "timestamp": 1624565485009,
     "user": {
      "displayName": "andrew samanika",
      "photoUrl": "",
      "userId": "06207910559096054821"
     },
     "user_tz": -120
    },
    "id": "C7NE2HftSmFF"
   },
   "outputs": [],
   "source": [
    "#create dataset\n",
    "def create_main_dataset(putlocker_dataframe):\n",
    "  putlocker_df=putlocker_dataframe\n",
    "  #putlocker_df.shape\n",
    "  user_ratings_df=pd.read_csv('user_ratings.csv')\n",
    "  #user_ratings_df.shape\n",
    "  #each user should be represented in the whole dataframe\n",
    "  users=4\n",
    "  required_size=(len(putlocker_df)*users)+1\n",
    "  user_ratings_df=user_ratings_df.iloc[0:required_size,:]\n",
    "  #replace values per section\n",
    "  x=pd.Series()\n",
    "  x=x.append(pd.Series(np.array(putlocker_df['movie_id'])),ignore_index=True)\n",
    "  x=x.append(pd.Series(np.array(putlocker_df['movie_id'])),ignore_index=True)\n",
    "  x=x.append(pd.Series(np.array(putlocker_df['movie_id'])),ignore_index=True)\n",
    "  x=x.append(pd.Series(np.array(putlocker_df['movie_id'])),ignore_index=True)\n",
    "  x=x.rename('movie_id')\n",
    "\n",
    "\n",
    "  #adjust user ids\n",
    "  list_of_users=['user1','user2','user3','user4']\n",
    "  y=user_ratings_df['user_id']\n",
    "  y.iloc[0:len(putlocker_df)]=list_of_users[0]\n",
    "  y.iloc[len(putlocker_df)+1:len(putlocker_df)*2]=list_of_users[1]\n",
    "  y.iloc[(len(putlocker_df)*2)+1:(len(putlocker_df)*3)]=list_of_users[2]\n",
    "  y.iloc[(len(putlocker_df)*3)+1:(len(putlocker_df)*4)]=list_of_users[3]\n",
    "  y=y.rename('user_id')\n",
    "\n",
    "  newdf=pd.concat([x,y], axis=1)\n",
    "  #adding the new dataframe\n",
    "  user_ratings_df=user_ratings_df.drop('movie_id',axis=1)\n",
    "  user_ratings_df=user_ratings_df.drop('user_id',axis=1)\n",
    "  user_ratings_df=user_ratings_df.join(newdf)\n",
    "  user_ratings_df=user_ratings_df.loc[:,'movie_id':].join(pd.DataFrame(user_ratings_df.loc[:,'user_rating']))\n",
    "\n",
    "  user_ratings_df.to_csv('adjusted_user_ratings.csv',index=None)\n",
    "  user_ratings_df=pd.read_csv('adjusted_user_ratings.csv')\n",
    "  user_ratings_df.tail()\n",
    "\n",
    "  #merge the movies and ratings dataframes\n",
    "  dataset_df=putlocker_df.merge(user_ratings_df,on='movie_id',how='left')\n",
    "  dataset_df.info(verbose=False,memory_usage='deep')\n",
    "  dataset_df.to_csv('main_dataset.csv',index=None)\n",
    "  dataset_df=pd.read_csv('main_dataset.csv',dtype={'user_rating':'int8','genre':'category','title':'category'})  \n",
    "  print('DATASET SAVED <main_dataset.csv>')\n",
    "  return dataset_df"
   ]
  },
  {
   "cell_type": "code",
   "execution_count": 5,
   "id": "abUCALJ2U0nH",
   "metadata": {
    "colab": {
     "base_uri": "https://localhost:8080/"
    },
    "executionInfo": {
     "elapsed": 1434,
     "status": "ok",
     "timestamp": 1624565486423,
     "user": {
      "displayName": "andrew samanika",
      "photoUrl": "",
      "userId": "06207910559096054821"
     },
     "user_tz": -120
    },
    "id": "abUCALJ2U0nH",
    "outputId": "50dcf09a-4a38-4a9e-ffc8-ae1d965dc2d9"
   },
   "outputs": [
    {
     "data": {
      "text/plain": [
       "(8379, 4)"
      ]
     },
     "execution_count": 5,
     "metadata": {},
     "output_type": "execute_result"
    }
   ],
   "source": [
    "#scrape data\n",
    "putlocker_df=pd.DataFrame()\n",
    "putlocker_df=scrape_putlocker()\n",
    "putlocker_df.shape"
   ]
  },
  {
   "cell_type": "code",
   "execution_count": 6,
   "id": "XKh3jhkw8oJd",
   "metadata": {
    "colab": {
     "base_uri": "https://localhost:8080/"
    },
    "executionInfo": {
     "elapsed": 56,
     "status": "ok",
     "timestamp": 1624565486428,
     "user": {
      "displayName": "andrew samanika",
      "photoUrl": "",
      "userId": "06207910559096054821"
     },
     "user_tz": -120
    },
    "id": "XKh3jhkw8oJd",
    "outputId": "0f57e491-f2d4-4a4b-9217-ba36ce08117b"
   },
   "outputs": [
    {
     "data": {
      "text/plain": [
       "(8373, 4)"
      ]
     },
     "execution_count": 6,
     "metadata": {},
     "output_type": "execute_result"
    }
   ],
   "source": [
    "putlocker_df['title'].replace({\n",
    "    \"\\”\":'',\n",
    "    \"\\.\":'',\n",
    "    \"\\'\":'',\n",
    "    '()':'',\n",
    "    \"\\(\":'',\n",
    "    \"\\)\":'',\n",
    "    \"\\[\":'',\n",
    "    \"\\]\":'',\n",
    "    ':':'',\n",
    "    '#':'',\n",
    "    \"\\*\":'_',\n",
    "    '-':'_',\n",
    "    \"\\\"\":'',\n",
    "    ' ':'_',\n",
    "    ',':'',\n",
    "    '!':'',\n",
    "    '“':'',\n",
    "    '&':'and',\n",
    "    '3':'Three',\n",
    "    '–':'_',\n",
    "    \"\\'\":'',\n",
    "    '__':'_'\n",
    "     },regex=True,inplace=True)\n",
    "putlocker_df=putlocker_df[~(putlocker_df.title =='¡Three_Amigos')]\n",
    "putlocker_df=putlocker_df[~(putlocker_df.title =='Ölümlü_Dünya')]\n",
    "putlocker_df=putlocker_df[~(putlocker_df.title =='Ænigma_Lucio_Fulci_and_the_80s')]\n",
    "putlocker_df=putlocker_df[~(putlocker_df.title ==\"\\'71\")]\n",
    "putlocker_df['genre'].replace({'-':'_'},regex=True,inplace=True)\n",
    "putlocker_df.shape"
   ]
  },
  {
   "cell_type": "code",
   "execution_count": 7,
   "id": "zfdnuia1AZxo",
   "metadata": {
    "colab": {
     "base_uri": "https://localhost:8080/",
     "height": 414
    },
    "executionInfo": {
     "elapsed": 46,
     "status": "ok",
     "timestamp": 1624565486431,
     "user": {
      "displayName": "andrew samanika",
      "photoUrl": "",
      "userId": "06207910559096054821"
     },
     "user_tz": -120
    },
    "id": "zfdnuia1AZxo",
    "outputId": "ed7c79a9-3387-4d59-da74-9de707927634"
   },
   "outputs": [
    {
     "data": {
      "text/html": [
       "<div>\n",
       "<style scoped>\n",
       "    .dataframe tbody tr th:only-of-type {\n",
       "        vertical-align: middle;\n",
       "    }\n",
       "\n",
       "    .dataframe tbody tr th {\n",
       "        vertical-align: top;\n",
       "    }\n",
       "\n",
       "    .dataframe thead th {\n",
       "        text-align: right;\n",
       "    }\n",
       "</style>\n",
       "<table border=\"1\" class=\"dataframe\">\n",
       "  <thead>\n",
       "    <tr style=\"text-align: right;\">\n",
       "      <th></th>\n",
       "      <th>movie_id</th>\n",
       "      <th>title</th>\n",
       "      <th>genre</th>\n",
       "      <th>watch_link</th>\n",
       "    </tr>\n",
       "  </thead>\n",
       "  <tbody>\n",
       "    <tr>\n",
       "      <th>0</th>\n",
       "      <td>0</td>\n",
       "      <td>Jumanji_The_Next_Level</td>\n",
       "      <td>action</td>\n",
       "      <td>https://w5.putlocker.to/79105-watch-jumanji-th...</td>\n",
       "    </tr>\n",
       "    <tr>\n",
       "      <th>1</th>\n",
       "      <td>1</td>\n",
       "      <td>Black_and_Blue</td>\n",
       "      <td>action</td>\n",
       "      <td>https://w5.putlocker.to/79096-watch-black-and-...</td>\n",
       "    </tr>\n",
       "    <tr>\n",
       "      <th>2</th>\n",
       "      <td>2</td>\n",
       "      <td>Terminator_Dark_Fate</td>\n",
       "      <td>action</td>\n",
       "      <td>https://w5.putlocker.to/79097-watch-terminator...</td>\n",
       "    </tr>\n",
       "    <tr>\n",
       "      <th>3</th>\n",
       "      <td>3</td>\n",
       "      <td>Zombieland_Double_Tap</td>\n",
       "      <td>action</td>\n",
       "      <td>https://w5.putlocker.to/79086-watch-zombieland...</td>\n",
       "    </tr>\n",
       "    <tr>\n",
       "      <th>4</th>\n",
       "      <td>4</td>\n",
       "      <td>Gemini_Man</td>\n",
       "      <td>action</td>\n",
       "      <td>https://w5.putlocker.to/78834-watch-gemini-man...</td>\n",
       "    </tr>\n",
       "    <tr>\n",
       "      <th>...</th>\n",
       "      <td>...</td>\n",
       "      <td>...</td>\n",
       "      <td>...</td>\n",
       "      <td>...</td>\n",
       "    </tr>\n",
       "    <tr>\n",
       "      <th>8374</th>\n",
       "      <td>8374</td>\n",
       "      <td>The_Stand_at_Apache_River</td>\n",
       "      <td>western</td>\n",
       "      <td>https://w5.putlocker.to/1053-watch-the-stand-a...</td>\n",
       "    </tr>\n",
       "    <tr>\n",
       "      <th>8375</th>\n",
       "      <td>8375</td>\n",
       "      <td>Gun_Fury</td>\n",
       "      <td>western</td>\n",
       "      <td>https://w5.putlocker.to/1050-watch-gun-fury-on...</td>\n",
       "    </tr>\n",
       "    <tr>\n",
       "      <th>8376</th>\n",
       "      <td>8376</td>\n",
       "      <td>Those_Redheads_from_Seattle</td>\n",
       "      <td>western</td>\n",
       "      <td>https://w5.putlocker.to/1040-watch-those-redhe...</td>\n",
       "    </tr>\n",
       "    <tr>\n",
       "      <th>8377</th>\n",
       "      <td>8377</td>\n",
       "      <td>Powder_River</td>\n",
       "      <td>western</td>\n",
       "      <td>https://w5.putlocker.to/1038-watch-powder-rive...</td>\n",
       "    </tr>\n",
       "    <tr>\n",
       "      <th>8378</th>\n",
       "      <td>8378</td>\n",
       "      <td>The_Man_from_the_Alamo</td>\n",
       "      <td>western</td>\n",
       "      <td>https://w5.putlocker.to/1037-watch-the-man-fro...</td>\n",
       "    </tr>\n",
       "  </tbody>\n",
       "</table>\n",
       "<p>8373 rows × 4 columns</p>\n",
       "</div>"
      ],
      "text/plain": [
       "      movie_id                        title    genre  \\\n",
       "0            0       Jumanji_The_Next_Level   action   \n",
       "1            1               Black_and_Blue   action   \n",
       "2            2         Terminator_Dark_Fate   action   \n",
       "3            3        Zombieland_Double_Tap   action   \n",
       "4            4                   Gemini_Man   action   \n",
       "...        ...                          ...      ...   \n",
       "8374      8374    The_Stand_at_Apache_River  western   \n",
       "8375      8375                     Gun_Fury  western   \n",
       "8376      8376  Those_Redheads_from_Seattle  western   \n",
       "8377      8377                 Powder_River  western   \n",
       "8378      8378       The_Man_from_the_Alamo  western   \n",
       "\n",
       "                                             watch_link  \n",
       "0     https://w5.putlocker.to/79105-watch-jumanji-th...  \n",
       "1     https://w5.putlocker.to/79096-watch-black-and-...  \n",
       "2     https://w5.putlocker.to/79097-watch-terminator...  \n",
       "3     https://w5.putlocker.to/79086-watch-zombieland...  \n",
       "4     https://w5.putlocker.to/78834-watch-gemini-man...  \n",
       "...                                                 ...  \n",
       "8374  https://w5.putlocker.to/1053-watch-the-stand-a...  \n",
       "8375  https://w5.putlocker.to/1050-watch-gun-fury-on...  \n",
       "8376  https://w5.putlocker.to/1040-watch-those-redhe...  \n",
       "8377  https://w5.putlocker.to/1038-watch-powder-rive...  \n",
       "8378  https://w5.putlocker.to/1037-watch-the-man-fro...  \n",
       "\n",
       "[8373 rows x 4 columns]"
      ]
     },
     "execution_count": 7,
     "metadata": {},
     "output_type": "execute_result"
    }
   ],
   "source": [
    "putlocker_df"
   ]
  },
  {
   "cell_type": "code",
   "execution_count": 8,
   "id": "k4jw71u0VBQD",
   "metadata": {
    "colab": {
     "base_uri": "https://localhost:8080/",
     "height": 696
    },
    "executionInfo": {
     "elapsed": 2957,
     "status": "ok",
     "timestamp": 1624565489349,
     "user": {
      "displayName": "andrew samanika",
      "photoUrl": "",
      "userId": "06207910559096054821"
     },
     "user_tz": -120
    },
    "id": "k4jw71u0VBQD",
    "outputId": "2bc232f1-188c-4661-bb04-60e39c40a42c"
   },
   "outputs": [
    {
     "name": "stderr",
     "output_type": "stream",
     "text": [
      "<ipython-input-4-40ac91bcf0f6>:12: DeprecationWarning: The default dtype for empty Series will be 'object' instead of 'float64' in a future version. Specify a dtype explicitly to silence this warning.\n",
      "  x=pd.Series()\n",
      "/usr/local/lib/python3.8/dist-packages/pandas/core/indexing.py:1637: SettingWithCopyWarning: \n",
      "A value is trying to be set on a copy of a slice from a DataFrame\n",
      "\n",
      "See the caveats in the documentation: https://pandas.pydata.org/pandas-docs/stable/user_guide/indexing.html#returning-a-view-versus-a-copy\n",
      "  self._setitem_single_block(indexer, value, name)\n"
     ]
    },
    {
     "name": "stdout",
     "output_type": "stream",
     "text": [
      "<class 'pandas.core.frame.DataFrame'>\n",
      "Int64Index: 33492 entries, 0 to 33491\n",
      "Columns: 6 entries, movie_id to user_rating\n",
      "dtypes: int64(2), object(4)\n",
      "memory usage: 11.8 MB\n",
      "DATASET SAVED <main_dataset.csv>\n"
     ]
    },
    {
     "data": {
      "text/html": [
       "<div>\n",
       "<style scoped>\n",
       "    .dataframe tbody tr th:only-of-type {\n",
       "        vertical-align: middle;\n",
       "    }\n",
       "\n",
       "    .dataframe tbody tr th {\n",
       "        vertical-align: top;\n",
       "    }\n",
       "\n",
       "    .dataframe thead th {\n",
       "        text-align: right;\n",
       "    }\n",
       "</style>\n",
       "<table border=\"1\" class=\"dataframe\">\n",
       "  <thead>\n",
       "    <tr style=\"text-align: right;\">\n",
       "      <th></th>\n",
       "      <th>total_of_ratings</th>\n",
       "    </tr>\n",
       "    <tr>\n",
       "      <th>title</th>\n",
       "      <th></th>\n",
       "    </tr>\n",
       "  </thead>\n",
       "  <tbody>\n",
       "    <tr>\n",
       "      <th>10000_Saints</th>\n",
       "      <td>18.0</td>\n",
       "    </tr>\n",
       "    <tr>\n",
       "      <th>100_Things</th>\n",
       "      <td>19.0</td>\n",
       "    </tr>\n",
       "    <tr>\n",
       "      <th>12_Strong</th>\n",
       "      <td>37.0</td>\n",
       "    </tr>\n",
       "    <tr>\n",
       "      <th>12_Suicidal_Teens</th>\n",
       "      <td>28.0</td>\n",
       "    </tr>\n",
       "    <tr>\n",
       "      <th>12_Years_a_Slave</th>\n",
       "      <td>17.0</td>\n",
       "    </tr>\n",
       "    <tr>\n",
       "      <th>...</th>\n",
       "      <td>...</td>\n",
       "    </tr>\n",
       "    <tr>\n",
       "      <th>Zorro</th>\n",
       "      <td>52.0</td>\n",
       "    </tr>\n",
       "    <tr>\n",
       "      <th>Zorro_The_Gay_Blade</th>\n",
       "      <td>17.0</td>\n",
       "    </tr>\n",
       "    <tr>\n",
       "      <th>mother</th>\n",
       "      <td>13.0</td>\n",
       "    </tr>\n",
       "    <tr>\n",
       "      <th>xXx_Return_of_Xander_Cage</th>\n",
       "      <td>16.0</td>\n",
       "    </tr>\n",
       "    <tr>\n",
       "      <th>’71</th>\n",
       "      <td>14.0</td>\n",
       "    </tr>\n",
       "  </tbody>\n",
       "</table>\n",
       "<p>5257 rows × 1 columns</p>\n",
       "</div>"
      ],
      "text/plain": [
       "                           total_of_ratings\n",
       "title                                      \n",
       "10000_Saints                           18.0\n",
       "100_Things                             19.0\n",
       "12_Strong                              37.0\n",
       "12_Suicidal_Teens                      28.0\n",
       "12_Years_a_Slave                       17.0\n",
       "...                                     ...\n",
       "Zorro                                  52.0\n",
       "Zorro_The_Gay_Blade                    17.0\n",
       "mother                                 13.0\n",
       "xXx_Return_of_Xander_Cage              16.0\n",
       "’71                                    14.0\n",
       "\n",
       "[5257 rows x 1 columns]"
      ]
     },
     "execution_count": 8,
     "metadata": {},
     "output_type": "execute_result"
    }
   ],
   "source": [
    "#create dataframe\n",
    "dataset_df=create_main_dataset(putlocker_df)\n",
    "#total of ratings\n",
    "pd.DataFrame(dataset_df.groupby('title')['user_rating'].sum()).rename(columns={'user_rating':'total_of_ratings'})"
   ]
  },
  {
   "cell_type": "code",
   "execution_count": 9,
   "id": "y-qOaZGMV1Ll",
   "metadata": {
    "colab": {
     "base_uri": "https://localhost:8080/",
     "height": 202
    },
    "executionInfo": {
     "elapsed": 244,
     "status": "ok",
     "timestamp": 1624565489369,
     "user": {
      "displayName": "andrew samanika",
      "photoUrl": "",
      "userId": "06207910559096054821"
     },
     "user_tz": -120
    },
    "id": "y-qOaZGMV1Ll",
    "outputId": "f0147617-48a3-47c0-d86f-0aae4c2b816b"
   },
   "outputs": [
    {
     "data": {
      "text/html": [
       "<div>\n",
       "<style scoped>\n",
       "    .dataframe tbody tr th:only-of-type {\n",
       "        vertical-align: middle;\n",
       "    }\n",
       "\n",
       "    .dataframe tbody tr th {\n",
       "        vertical-align: top;\n",
       "    }\n",
       "\n",
       "    .dataframe thead th {\n",
       "        text-align: right;\n",
       "    }\n",
       "</style>\n",
       "<table border=\"1\" class=\"dataframe\">\n",
       "  <thead>\n",
       "    <tr style=\"text-align: right;\">\n",
       "      <th></th>\n",
       "      <th>movie_id</th>\n",
       "      <th>title</th>\n",
       "      <th>genre</th>\n",
       "      <th>watch_link</th>\n",
       "      <th>user_id</th>\n",
       "      <th>user_rating</th>\n",
       "    </tr>\n",
       "  </thead>\n",
       "  <tbody>\n",
       "    <tr>\n",
       "      <th>0</th>\n",
       "      <td>0</td>\n",
       "      <td>Jumanji_The_Next_Level</td>\n",
       "      <td>action</td>\n",
       "      <td>https://w5.putlocker.to/79105-watch-jumanji-th...</td>\n",
       "      <td>user1</td>\n",
       "      <td>3</td>\n",
       "    </tr>\n",
       "    <tr>\n",
       "      <th>1</th>\n",
       "      <td>0</td>\n",
       "      <td>Jumanji_The_Next_Level</td>\n",
       "      <td>action</td>\n",
       "      <td>https://w5.putlocker.to/79105-watch-jumanji-th...</td>\n",
       "      <td>290</td>\n",
       "      <td>1</td>\n",
       "    </tr>\n",
       "    <tr>\n",
       "      <th>2</th>\n",
       "      <td>0</td>\n",
       "      <td>Jumanji_The_Next_Level</td>\n",
       "      <td>action</td>\n",
       "      <td>https://w5.putlocker.to/79105-watch-jumanji-th...</td>\n",
       "      <td>345</td>\n",
       "      <td>3</td>\n",
       "    </tr>\n",
       "    <tr>\n",
       "      <th>3</th>\n",
       "      <td>0</td>\n",
       "      <td>Jumanji_The_Next_Level</td>\n",
       "      <td>action</td>\n",
       "      <td>https://w5.putlocker.to/79105-watch-jumanji-th...</td>\n",
       "      <td>506</td>\n",
       "      <td>2</td>\n",
       "    </tr>\n",
       "    <tr>\n",
       "      <th>4</th>\n",
       "      <td>1</td>\n",
       "      <td>Black_and_Blue</td>\n",
       "      <td>action</td>\n",
       "      <td>https://w5.putlocker.to/79096-watch-black-and-...</td>\n",
       "      <td>user1</td>\n",
       "      <td>3</td>\n",
       "    </tr>\n",
       "  </tbody>\n",
       "</table>\n",
       "</div>"
      ],
      "text/plain": [
       "   movie_id                   title   genre  \\\n",
       "0         0  Jumanji_The_Next_Level  action   \n",
       "1         0  Jumanji_The_Next_Level  action   \n",
       "2         0  Jumanji_The_Next_Level  action   \n",
       "3         0  Jumanji_The_Next_Level  action   \n",
       "4         1          Black_and_Blue  action   \n",
       "\n",
       "                                          watch_link user_id  user_rating  \n",
       "0  https://w5.putlocker.to/79105-watch-jumanji-th...   user1            3  \n",
       "1  https://w5.putlocker.to/79105-watch-jumanji-th...     290            1  \n",
       "2  https://w5.putlocker.to/79105-watch-jumanji-th...     345            3  \n",
       "3  https://w5.putlocker.to/79105-watch-jumanji-th...     506            2  \n",
       "4  https://w5.putlocker.to/79096-watch-black-and-...   user1            3  "
      ]
     },
     "execution_count": 9,
     "metadata": {},
     "output_type": "execute_result"
    }
   ],
   "source": [
    "dataset_df.head()"
   ]
  },
  {
   "cell_type": "code",
   "execution_count": 10,
   "id": "y-h491IS3Nc6",
   "metadata": {
    "colab": {
     "base_uri": "https://localhost:8080/"
    },
    "executionInfo": {
     "elapsed": 241,
     "status": "ok",
     "timestamp": 1624565489372,
     "user": {
      "displayName": "andrew samanika",
      "photoUrl": "",
      "userId": "06207910559096054821"
     },
     "user_tz": -120
    },
    "id": "y-h491IS3Nc6",
    "outputId": "ac9501ce-f2b9-4c84-acb5-1991ecdf5f7d"
   },
   "outputs": [
    {
     "data": {
      "text/plain": [
       "['action', 'adventure', 'animation', 'comedy', 'crime', ..., 'romance', 'science_fiction', 'thriller', 'war', 'western']\n",
       "Length: 20\n",
       "Categories (20, object): ['action', 'adventure', 'animation', 'comedy', ..., 'science_fiction', 'thriller', 'war', 'western']"
      ]
     },
     "execution_count": 10,
     "metadata": {},
     "output_type": "execute_result"
    }
   ],
   "source": [
    "\n",
    "dataset_df['genre'].unique()"
   ]
  },
  {
   "cell_type": "code",
   "execution_count": 11,
   "id": "24_CKYFHZ-54",
   "metadata": {
    "colab": {
     "base_uri": "https://localhost:8080/",
     "height": 414
    },
    "executionInfo": {
     "elapsed": 228,
     "status": "ok",
     "timestamp": 1624565489376,
     "user": {
      "displayName": "andrew samanika",
      "photoUrl": "",
      "userId": "06207910559096054821"
     },
     "user_tz": -120
    },
    "id": "24_CKYFHZ-54",
    "outputId": "7f5f88c4-1038-4f52-c2e9-b7583c63e672"
   },
   "outputs": [
    {
     "data": {
      "text/html": [
       "<div>\n",
       "<style scoped>\n",
       "    .dataframe tbody tr th:only-of-type {\n",
       "        vertical-align: middle;\n",
       "    }\n",
       "\n",
       "    .dataframe tbody tr th {\n",
       "        vertical-align: top;\n",
       "    }\n",
       "\n",
       "    .dataframe thead th {\n",
       "        text-align: right;\n",
       "    }\n",
       "</style>\n",
       "<table border=\"1\" class=\"dataframe\">\n",
       "  <thead>\n",
       "    <tr style=\"text-align: right;\">\n",
       "      <th></th>\n",
       "      <th>movie_id</th>\n",
       "      <th>title</th>\n",
       "      <th>genre</th>\n",
       "      <th>watch_link</th>\n",
       "      <th>movie_rating</th>\n",
       "    </tr>\n",
       "  </thead>\n",
       "  <tbody>\n",
       "    <tr>\n",
       "      <th>0</th>\n",
       "      <td>0</td>\n",
       "      <td>Jumanji_The_Next_Level</td>\n",
       "      <td>action</td>\n",
       "      <td>https://w5.putlocker.to/79105-watch-jumanji-th...</td>\n",
       "      <td>3.50</td>\n",
       "    </tr>\n",
       "    <tr>\n",
       "      <th>1</th>\n",
       "      <td>0</td>\n",
       "      <td>Jumanji_The_Next_Level</td>\n",
       "      <td>action</td>\n",
       "      <td>https://w5.putlocker.to/79105-watch-jumanji-th...</td>\n",
       "      <td>3.50</td>\n",
       "    </tr>\n",
       "    <tr>\n",
       "      <th>2</th>\n",
       "      <td>0</td>\n",
       "      <td>Jumanji_The_Next_Level</td>\n",
       "      <td>action</td>\n",
       "      <td>https://w5.putlocker.to/79105-watch-jumanji-th...</td>\n",
       "      <td>3.50</td>\n",
       "    </tr>\n",
       "    <tr>\n",
       "      <th>3</th>\n",
       "      <td>0</td>\n",
       "      <td>Jumanji_The_Next_Level</td>\n",
       "      <td>action</td>\n",
       "      <td>https://w5.putlocker.to/79105-watch-jumanji-th...</td>\n",
       "      <td>3.50</td>\n",
       "    </tr>\n",
       "    <tr>\n",
       "      <th>4</th>\n",
       "      <td>40</td>\n",
       "      <td>Jumanji_The_Next_Level</td>\n",
       "      <td>action</td>\n",
       "      <td>https://w5.putlocker.to/79105-watch-jumanji-th...</td>\n",
       "      <td>3.50</td>\n",
       "    </tr>\n",
       "    <tr>\n",
       "      <th>...</th>\n",
       "      <td>...</td>\n",
       "      <td>...</td>\n",
       "      <td>...</td>\n",
       "      <td>...</td>\n",
       "      <td>...</td>\n",
       "    </tr>\n",
       "    <tr>\n",
       "      <th>33487</th>\n",
       "      <td>8377</td>\n",
       "      <td>Powder_River</td>\n",
       "      <td>western</td>\n",
       "      <td>https://w5.putlocker.to/1038-watch-powder-rive...</td>\n",
       "      <td>2.75</td>\n",
       "    </tr>\n",
       "    <tr>\n",
       "      <th>33488</th>\n",
       "      <td>8378</td>\n",
       "      <td>The_Man_from_the_Alamo</td>\n",
       "      <td>western</td>\n",
       "      <td>https://w5.putlocker.to/1037-watch-the-man-fro...</td>\n",
       "      <td>2.50</td>\n",
       "    </tr>\n",
       "    <tr>\n",
       "      <th>33489</th>\n",
       "      <td>8378</td>\n",
       "      <td>The_Man_from_the_Alamo</td>\n",
       "      <td>western</td>\n",
       "      <td>https://w5.putlocker.to/1037-watch-the-man-fro...</td>\n",
       "      <td>2.50</td>\n",
       "    </tr>\n",
       "    <tr>\n",
       "      <th>33490</th>\n",
       "      <td>8378</td>\n",
       "      <td>The_Man_from_the_Alamo</td>\n",
       "      <td>western</td>\n",
       "      <td>https://w5.putlocker.to/1037-watch-the-man-fro...</td>\n",
       "      <td>2.50</td>\n",
       "    </tr>\n",
       "    <tr>\n",
       "      <th>33491</th>\n",
       "      <td>8378</td>\n",
       "      <td>The_Man_from_the_Alamo</td>\n",
       "      <td>western</td>\n",
       "      <td>https://w5.putlocker.to/1037-watch-the-man-fro...</td>\n",
       "      <td>2.50</td>\n",
       "    </tr>\n",
       "  </tbody>\n",
       "</table>\n",
       "<p>33492 rows × 5 columns</p>\n",
       "</div>"
      ],
      "text/plain": [
       "       movie_id                   title    genre  \\\n",
       "0             0  Jumanji_The_Next_Level   action   \n",
       "1             0  Jumanji_The_Next_Level   action   \n",
       "2             0  Jumanji_The_Next_Level   action   \n",
       "3             0  Jumanji_The_Next_Level   action   \n",
       "4            40  Jumanji_The_Next_Level   action   \n",
       "...         ...                     ...      ...   \n",
       "33487      8377            Powder_River  western   \n",
       "33488      8378  The_Man_from_the_Alamo  western   \n",
       "33489      8378  The_Man_from_the_Alamo  western   \n",
       "33490      8378  The_Man_from_the_Alamo  western   \n",
       "33491      8378  The_Man_from_the_Alamo  western   \n",
       "\n",
       "                                              watch_link  movie_rating  \n",
       "0      https://w5.putlocker.to/79105-watch-jumanji-th...          3.50  \n",
       "1      https://w5.putlocker.to/79105-watch-jumanji-th...          3.50  \n",
       "2      https://w5.putlocker.to/79105-watch-jumanji-th...          3.50  \n",
       "3      https://w5.putlocker.to/79105-watch-jumanji-th...          3.50  \n",
       "4      https://w5.putlocker.to/79105-watch-jumanji-th...          3.50  \n",
       "...                                                  ...           ...  \n",
       "33487  https://w5.putlocker.to/1038-watch-powder-rive...          2.75  \n",
       "33488  https://w5.putlocker.to/1037-watch-the-man-fro...          2.50  \n",
       "33489  https://w5.putlocker.to/1037-watch-the-man-fro...          2.50  \n",
       "33490  https://w5.putlocker.to/1037-watch-the-man-fro...          2.50  \n",
       "33491  https://w5.putlocker.to/1037-watch-the-man-fro...          2.50  \n",
       "\n",
       "[33492 rows x 5 columns]"
      ]
     },
     "execution_count": 11,
     "metadata": {},
     "output_type": "execute_result"
    }
   ],
   "source": [
    "totals_df=pd.DataFrame(dataset_df.groupby('title')['user_rating'].sum()).rename(columns={'user_rating':'sum_of_ratings'})\n",
    "totals_df=totals_df.merge((dataset_df.groupby('title')['user_id'].count()).rename('num_of_ratings'), on='title')\n",
    "movie_ratings_sr=pd.Series(totals_df['sum_of_ratings']/totals_df['num_of_ratings']).rename('movie_rating')\n",
    "totals_df=totals_df.merge(movie_ratings_sr,on='title')\n",
    "dataset_df=dataset_df.merge(totals_df,on='title').drop(['sum_of_ratings','num_of_ratings','user_id','user_rating'],axis=1)\n",
    "dataset_df.to_csv('main_movie_ratings.csv',index=False)\n",
    "dataset_df"
   ]
  },
  {
   "cell_type": "code",
   "execution_count": 12,
   "id": "R-8znyg8jyoJ",
   "metadata": {
    "executionInfo": {
     "elapsed": 232,
     "status": "ok",
     "timestamp": 1624565489386,
     "user": {
      "displayName": "andrew samanika",
      "photoUrl": "",
      "userId": "06207910559096054821"
     },
     "user_tz": -120
    },
    "id": "R-8znyg8jyoJ"
   },
   "outputs": [],
   "source": [
    "#using movie_ratings\n",
    "x=dataset_df.drop_duplicates(subset='title',keep='last',inplace=False)"
   ]
  },
  {
   "cell_type": "code",
   "execution_count": 13,
   "id": "v9Y0YRYtmboe",
   "metadata": {
    "colab": {
     "base_uri": "https://localhost:8080/",
     "height": 202
    },
    "executionInfo": {
     "elapsed": 234,
     "status": "ok",
     "timestamp": 1624565489391,
     "user": {
      "displayName": "andrew samanika",
      "photoUrl": "",
      "userId": "06207910559096054821"
     },
     "user_tz": -120
    },
    "id": "v9Y0YRYtmboe",
    "outputId": "27a90d74-dc71-44c4-9e8e-afd539d53518"
   },
   "outputs": [
    {
     "data": {
      "text/html": [
       "<div>\n",
       "<style scoped>\n",
       "    .dataframe tbody tr th:only-of-type {\n",
       "        vertical-align: middle;\n",
       "    }\n",
       "\n",
       "    .dataframe tbody tr th {\n",
       "        vertical-align: top;\n",
       "    }\n",
       "\n",
       "    .dataframe thead th {\n",
       "        text-align: right;\n",
       "    }\n",
       "</style>\n",
       "<table border=\"1\" class=\"dataframe\">\n",
       "  <thead>\n",
       "    <tr style=\"text-align: right;\">\n",
       "      <th></th>\n",
       "      <th>title</th>\n",
       "      <th>genre</th>\n",
       "      <th>watch_link</th>\n",
       "      <th>movie_rating</th>\n",
       "    </tr>\n",
       "  </thead>\n",
       "  <tbody>\n",
       "    <tr>\n",
       "      <th>0</th>\n",
       "      <td>Jumanji_The_Next_Level</td>\n",
       "      <td>featured</td>\n",
       "      <td>https://w5.putlocker.to/79105-watch-jumanji-th...</td>\n",
       "      <td>3.50000</td>\n",
       "    </tr>\n",
       "    <tr>\n",
       "      <th>1</th>\n",
       "      <td>Black_and_Blue</td>\n",
       "      <td>featured</td>\n",
       "      <td>https://w5.putlocker.to/79096-watch-black-and-...</td>\n",
       "      <td>3.87500</td>\n",
       "    </tr>\n",
       "    <tr>\n",
       "      <th>2</th>\n",
       "      <td>Terminator_Dark_Fate</td>\n",
       "      <td>science_fiction</td>\n",
       "      <td>https://w5.putlocker.to/79097-watch-terminator...</td>\n",
       "      <td>3.50000</td>\n",
       "    </tr>\n",
       "    <tr>\n",
       "      <th>3</th>\n",
       "      <td>Zombieland_Double_Tap</td>\n",
       "      <td>horror</td>\n",
       "      <td>https://w5.putlocker.to/79086-watch-zombieland...</td>\n",
       "      <td>3.65625</td>\n",
       "    </tr>\n",
       "    <tr>\n",
       "      <th>4</th>\n",
       "      <td>Gemini_Man</td>\n",
       "      <td>thriller</td>\n",
       "      <td>https://w5.putlocker.to/78834-watch-gemini-man...</td>\n",
       "      <td>3.68750</td>\n",
       "    </tr>\n",
       "  </tbody>\n",
       "</table>\n",
       "</div>"
      ],
      "text/plain": [
       "                    title            genre  \\\n",
       "0  Jumanji_The_Next_Level         featured   \n",
       "1          Black_and_Blue         featured   \n",
       "2    Terminator_Dark_Fate  science_fiction   \n",
       "3   Zombieland_Double_Tap           horror   \n",
       "4              Gemini_Man         thriller   \n",
       "\n",
       "                                          watch_link  movie_rating  \n",
       "0  https://w5.putlocker.to/79105-watch-jumanji-th...       3.50000  \n",
       "1  https://w5.putlocker.to/79096-watch-black-and-...       3.87500  \n",
       "2  https://w5.putlocker.to/79097-watch-terminator...       3.50000  \n",
       "3  https://w5.putlocker.to/79086-watch-zombieland...       3.65625  \n",
       "4  https://w5.putlocker.to/78834-watch-gemini-man...       3.68750  "
      ]
     },
     "execution_count": 13,
     "metadata": {},
     "output_type": "execute_result"
    }
   ],
   "source": [
    "dataset=x.reset_index().drop(['index','movie_id'],axis=1)\n",
    "dataset.head()"
   ]
  },
  {
   "cell_type": "code",
   "execution_count": 14,
   "id": "3BLyiq7jCsw1",
   "metadata": {
    "executionInfo": {
     "elapsed": 240,
     "status": "ok",
     "timestamp": 1624565489404,
     "user": {
      "displayName": "andrew samanika",
      "photoUrl": "",
      "userId": "06207910559096054821"
     },
     "user_tz": -120
    },
    "id": "3BLyiq7jCsw1"
   },
   "outputs": [],
   "source": [
    "dataset=dataset.sample(frac=0.5, replace=True, random_state=1)\n",
    "dataset=dataset.drop('watch_link',axis=1)"
   ]
  },
  {
   "cell_type": "code",
   "execution_count": 15,
   "id": "8EXisAIBVFGq",
   "metadata": {
    "colab": {
     "base_uri": "https://localhost:8080/"
    },
    "executionInfo": {
     "elapsed": 240,
     "status": "ok",
     "timestamp": 1624565489407,
     "user": {
      "displayName": "andrew samanika",
      "photoUrl": "",
      "userId": "06207910559096054821"
     },
     "user_tz": -120
    },
    "id": "8EXisAIBVFGq",
    "outputId": "7fd60884-f382-46d0-99a0-549df150e8f7"
   },
   "outputs": [
    {
     "data": {
      "text/plain": [
       "title           category\n",
       "genre           category\n",
       "movie_rating     float64\n",
       "dtype: object"
      ]
     },
     "execution_count": 15,
     "metadata": {},
     "output_type": "execute_result"
    }
   ],
   "source": [
    "dataset.dtypes"
   ]
  },
  {
   "cell_type": "code",
   "execution_count": 16,
   "id": "a524214f",
   "metadata": {
    "executionInfo": {
     "elapsed": 220,
     "status": "ok",
     "timestamp": 1624565489409,
     "user": {
      "displayName": "andrew samanika",
      "photoUrl": "",
      "userId": "06207910559096054821"
     },
     "user_tz": -120
    },
    "id": "a524214f"
   },
   "outputs": [],
   "source": [
    "#split the data\n",
    "X=dataset.iloc[:,:-1]\n",
    "y=pd.DataFrame(dataset.iloc[:,-1])"
   ]
  },
  {
   "cell_type": "code",
   "execution_count": 17,
   "id": "e_RBXfTTMiBk",
   "metadata": {
    "colab": {
     "base_uri": "https://localhost:8080/",
     "height": 202
    },
    "executionInfo": {
     "elapsed": 228,
     "status": "ok",
     "timestamp": 1624565489420,
     "user": {
      "displayName": "andrew samanika",
      "photoUrl": "",
      "userId": "06207910559096054821"
     },
     "user_tz": -120
    },
    "id": "e_RBXfTTMiBk",
    "outputId": "bf7cdb86-c2a6-40fd-f209-01ba20de4e69"
   },
   "outputs": [
    {
     "data": {
      "text/html": [
       "<div>\n",
       "<style scoped>\n",
       "    .dataframe tbody tr th:only-of-type {\n",
       "        vertical-align: middle;\n",
       "    }\n",
       "\n",
       "    .dataframe tbody tr th {\n",
       "        vertical-align: top;\n",
       "    }\n",
       "\n",
       "    .dataframe thead th {\n",
       "        text-align: right;\n",
       "    }\n",
       "</style>\n",
       "<table border=\"1\" class=\"dataframe\">\n",
       "  <thead>\n",
       "    <tr style=\"text-align: right;\">\n",
       "      <th></th>\n",
       "      <th>title</th>\n",
       "      <th>genre</th>\n",
       "    </tr>\n",
       "  </thead>\n",
       "  <tbody>\n",
       "    <tr>\n",
       "      <th>5157</th>\n",
       "      <td>Rough_Night_in_Jericho</td>\n",
       "      <td>western</td>\n",
       "    </tr>\n",
       "    <tr>\n",
       "      <th>235</th>\n",
       "      <td>The_Witch_Part_1_The_Subversion</td>\n",
       "      <td>mystery</td>\n",
       "    </tr>\n",
       "    <tr>\n",
       "      <th>3980</th>\n",
       "      <td>Black_Snow</td>\n",
       "      <td>mystery</td>\n",
       "    </tr>\n",
       "    <tr>\n",
       "      <th>5192</th>\n",
       "      <td>The_Comancheros</td>\n",
       "      <td>western</td>\n",
       "    </tr>\n",
       "    <tr>\n",
       "      <th>905</th>\n",
       "      <td>Storks</td>\n",
       "      <td>animation</td>\n",
       "    </tr>\n",
       "  </tbody>\n",
       "</table>\n",
       "</div>"
      ],
      "text/plain": [
       "                                title      genre\n",
       "5157           Rough_Night_in_Jericho    western\n",
       "235   The_Witch_Part_1_The_Subversion    mystery\n",
       "3980                       Black_Snow    mystery\n",
       "5192                  The_Comancheros    western\n",
       "905                            Storks  animation"
      ]
     },
     "execution_count": 17,
     "metadata": {},
     "output_type": "execute_result"
    }
   ],
   "source": [
    "X.head()"
   ]
  },
  {
   "cell_type": "code",
   "execution_count": 18,
   "id": "EMm3Qoc0L3wY",
   "metadata": {
    "executionInfo": {
     "elapsed": 224,
     "status": "ok",
     "timestamp": 1624565489423,
     "user": {
      "displayName": "andrew samanika",
      "photoUrl": "",
      "userId": "06207910559096054821"
     },
     "user_tz": -120
    },
    "id": "EMm3Qoc0L3wY"
   },
   "outputs": [],
   "source": [
    "#test code for y label encoder and X encoder\n",
    "encoded_X=pd.get_dummies(X, prefix=['title', 'genre'])\n",
    "label_encoded_y=y.apply(LabelEncoder().fit_transform)"
   ]
  },
  {
   "cell_type": "code",
   "execution_count": 19,
   "id": "cj6TIPwaSpe6",
   "metadata": {
    "colab": {
     "base_uri": "https://localhost:8080/",
     "height": 202
    },
    "executionInfo": {
     "elapsed": 230,
     "status": "ok",
     "timestamp": 1624565489436,
     "user": {
      "displayName": "andrew samanika",
      "photoUrl": "",
      "userId": "06207910559096054821"
     },
     "user_tz": -120
    },
    "id": "cj6TIPwaSpe6",
    "outputId": "b51ed796-04d3-40b4-8921-c1c508d5bee6"
   },
   "outputs": [
    {
     "data": {
      "text/html": [
       "<div>\n",
       "<style scoped>\n",
       "    .dataframe tbody tr th:only-of-type {\n",
       "        vertical-align: middle;\n",
       "    }\n",
       "\n",
       "    .dataframe tbody tr th {\n",
       "        vertical-align: top;\n",
       "    }\n",
       "\n",
       "    .dataframe thead th {\n",
       "        text-align: right;\n",
       "    }\n",
       "</style>\n",
       "<table border=\"1\" class=\"dataframe\">\n",
       "  <thead>\n",
       "    <tr style=\"text-align: right;\">\n",
       "      <th></th>\n",
       "      <th>movie_rating</th>\n",
       "    </tr>\n",
       "  </thead>\n",
       "  <tbody>\n",
       "    <tr>\n",
       "      <th>5157</th>\n",
       "      <td>19</td>\n",
       "    </tr>\n",
       "    <tr>\n",
       "      <th>235</th>\n",
       "      <td>58</td>\n",
       "    </tr>\n",
       "    <tr>\n",
       "      <th>3980</th>\n",
       "      <td>19</td>\n",
       "    </tr>\n",
       "    <tr>\n",
       "      <th>5192</th>\n",
       "      <td>54</td>\n",
       "    </tr>\n",
       "    <tr>\n",
       "      <th>905</th>\n",
       "      <td>44</td>\n",
       "    </tr>\n",
       "  </tbody>\n",
       "</table>\n",
       "</div>"
      ],
      "text/plain": [
       "      movie_rating\n",
       "5157            19\n",
       "235             58\n",
       "3980            19\n",
       "5192            54\n",
       "905             44"
      ]
     },
     "execution_count": 19,
     "metadata": {},
     "output_type": "execute_result"
    }
   ],
   "source": [
    "label_encoded_y.head()"
   ]
  },
  {
   "cell_type": "code",
   "execution_count": 20,
   "id": "lOI_Bvg9kXan",
   "metadata": {
    "colab": {
     "base_uri": "https://localhost:8080/",
     "height": 202
    },
    "executionInfo": {
     "elapsed": 226,
     "status": "ok",
     "timestamp": 1624565489439,
     "user": {
      "displayName": "andrew samanika",
      "photoUrl": "",
      "userId": "06207910559096054821"
     },
     "user_tz": -120
    },
    "id": "lOI_Bvg9kXan",
    "outputId": "5a326c62-e1a5-406f-fc8f-2e606b5b07b8"
   },
   "outputs": [
    {
     "data": {
      "text/html": [
       "<div>\n",
       "<style scoped>\n",
       "    .dataframe tbody tr th:only-of-type {\n",
       "        vertical-align: middle;\n",
       "    }\n",
       "\n",
       "    .dataframe tbody tr th {\n",
       "        vertical-align: top;\n",
       "    }\n",
       "\n",
       "    .dataframe thead th {\n",
       "        text-align: right;\n",
       "    }\n",
       "</style>\n",
       "<table border=\"1\" class=\"dataframe\">\n",
       "  <thead>\n",
       "    <tr style=\"text-align: right;\">\n",
       "      <th></th>\n",
       "      <th>movie_rating</th>\n",
       "    </tr>\n",
       "  </thead>\n",
       "  <tbody>\n",
       "    <tr>\n",
       "      <th>5157</th>\n",
       "      <td>0</td>\n",
       "    </tr>\n",
       "    <tr>\n",
       "      <th>235</th>\n",
       "      <td>1</td>\n",
       "    </tr>\n",
       "    <tr>\n",
       "      <th>3980</th>\n",
       "      <td>0</td>\n",
       "    </tr>\n",
       "    <tr>\n",
       "      <th>5192</th>\n",
       "      <td>1</td>\n",
       "    </tr>\n",
       "    <tr>\n",
       "      <th>905</th>\n",
       "      <td>1</td>\n",
       "    </tr>\n",
       "  </tbody>\n",
       "</table>\n",
       "</div>"
      ],
      "text/plain": [
       "      movie_rating\n",
       "5157             0\n",
       "235              1\n",
       "3980             0\n",
       "5192             1\n",
       "905              1"
      ]
     },
     "execution_count": 20,
     "metadata": {},
     "output_type": "execute_result"
    }
   ],
   "source": [
    "avg_rating=float(label_encoded_y.mean())\n",
    "label_encoded_y.loc[ label_encoded_y['movie_rating'] < avg_rating,'movie_rating' ]=0\n",
    "label_encoded_y.loc[ label_encoded_y['movie_rating'] > avg_rating,'movie_rating' ]=1\n",
    "label_encoded_y.head()"
   ]
  },
  {
   "cell_type": "code",
   "execution_count": 21,
   "id": "oHQo4CjUXVJo",
   "metadata": {
    "executionInfo": {
     "elapsed": 222,
     "status": "ok",
     "timestamp": 1624565489442,
     "user": {
      "displayName": "andrew samanika",
      "photoUrl": "",
      "userId": "06207910559096054821"
     },
     "user_tz": -120
    },
    "id": "oHQo4CjUXVJo"
   },
   "outputs": [],
   "source": [
    "#split into train and test data\n",
    "X_train, X_test, y_train, y_test = train_test_split(encoded_X, np.ravel(np.array(label_encoded_y)), test_size=0.2,random_state=50)"
   ]
  },
  {
   "cell_type": "code",
   "execution_count": 22,
   "id": "WuJtrvy1hxEs",
   "metadata": {
    "executionInfo": {
     "elapsed": 1355,
     "status": "ok",
     "timestamp": 1624565490578,
     "user": {
      "displayName": "andrew samanika",
      "photoUrl": "",
      "userId": "06207910559096054821"
     },
     "user_tz": -120
    },
    "id": "WuJtrvy1hxEs"
   },
   "outputs": [],
   "source": [
    "#use of optimixed data structure dataset_dmatrix\n",
    "dtrain_=xgb.DMatrix(X_train,label= y_train)\n",
    "dtest_=xgb.DMatrix(X_test,label= y_test)"
   ]
  },
  {
   "cell_type": "markdown",
   "id": "KTGjcbVPGzgr",
   "metadata": {
    "id": "KTGjcbVPGzgr"
   },
   "source": [
    "## CREATING MODEL"
   ]
  },
  {
   "cell_type": "code",
   "execution_count": 23,
   "id": "uVh2I7arxAuq",
   "metadata": {
    "colab": {
     "base_uri": "https://localhost:8080/"
    },
    "executionInfo": {
     "elapsed": 38218,
     "status": "ok",
     "timestamp": 1624565528749,
     "user": {
      "displayName": "andrew samanika",
      "photoUrl": "",
      "userId": "06207910559096054821"
     },
     "user_tz": -120
    },
    "id": "uVh2I7arxAuq",
    "outputId": "faa53715-d184-4802-a314-a18fd9a4f180"
   },
   "outputs": [
    {
     "name": "stderr",
     "output_type": "stream",
     "text": [
      "/usr/local/lib/python3.8/dist-packages/xgboost/sklearn.py:1146: UserWarning: The use of label encoder in XGBClassifier is deprecated and will be removed in a future release. To remove this warning, do the following: 1) Pass option use_label_encoder=False when constructing XGBClassifier object; and 2) Encode your labels (y) as integers starting with 0, i.e. 0, 1, 2, ..., [num_class - 1].\n",
      "  warnings.warn(label_encoder_deprecation_msg, UserWarning)\n"
     ]
    },
    {
     "name": "stdout",
     "output_type": "stream",
     "text": [
      "[23:13:43] WARNING: ../src/learner.cc:1095: Starting in XGBoost 1.3.0, the default evaluation metric used with the objective 'binary:logistic' was changed from 'error' to 'logloss'. Explicitly set eval_metric if you'd like to restore the old behavior.\n"
     ]
    }
   ],
   "source": [
    "from sklearn.metrics import roc_auc_score\n",
    "#for zero divides\n",
    "np.seterr( divide='ignore',invalid='ignore')\n",
    "# fit model on all training data\n",
    "xgb_model = xgb.XGBClassifier()\n",
    "xgb_model.fit(X_train, y_train)\n",
    "# make predictions for test data and evaluate\n",
    "preds = xgb_model.predict(X_test)\n",
    "# get the rmse and mape of train data\n",
    "rmse =  np.sqrt(mean_squared_error(y_test,preds))\n",
    "accuracy = accuracy_score(y_test, preds)\n",
    "auc=roc_auc_score(y_test,preds)\n",
    "# store the results in train_results dictionary\n",
    "test_results = {'predictions' : preds,'rmse': rmse,'accuracy' : (accuracy*100) ,'AUC ':(auc*100)}"
   ]
  },
  {
   "cell_type": "code",
   "execution_count": 24,
   "id": "ZLt2uLTDHmxm",
   "metadata": {
    "colab": {
     "base_uri": "https://localhost:8080/"
    },
    "executionInfo": {
     "elapsed": 15756,
     "status": "ok",
     "timestamp": 1624565544488,
     "user": {
      "displayName": "andrew samanika",
      "photoUrl": "",
      "userId": "06207910559096054821"
     },
     "user_tz": -120
    },
    "id": "ZLt2uLTDHmxm",
    "outputId": "986a04b4-d984-4ed7-b531-a6bd32586f97"
   },
   "outputs": [
    {
     "name": "stderr",
     "output_type": "stream",
     "text": [
      "/usr/local/lib/python3.8/dist-packages/xgboost/sklearn.py:1146: UserWarning: The use of label encoder in XGBClassifier is deprecated and will be removed in a future release. To remove this warning, do the following: 1) Pass option use_label_encoder=False when constructing XGBClassifier object; and 2) Encode your labels (y) as integers starting with 0, i.e. 0, 1, 2, ..., [num_class - 1].\n",
      "  warnings.warn(label_encoder_deprecation_msg, UserWarning)\n"
     ]
    },
    {
     "name": "stdout",
     "output_type": "stream",
     "text": [
      "[23:15:10] WARNING: ../src/learner.cc:1095: Starting in XGBoost 1.3.0, the default evaluation metric used with the objective 'binary:logistic' was changed from 'error' to 'logloss'. Explicitly set eval_metric if you'd like to restore the old behavior.\n"
     ]
    }
   ],
   "source": [
    "# fit model on all training data\n",
    "model_ = xgb.XGBClassifier(\n",
    "    learning_rate =0.001,\n",
    "    n_estimators=140,\n",
    "    max_depth=5,\n",
    "    min_child_weight=1,\n",
    "    gamma=0,\n",
    "    subsample=0.2,\n",
    "    colsample_bytree=0.1,\n",
    "    reg_alpha=0.005,\n",
    "    objective= 'binary:logistic',\n",
    "    nthread=1,\n",
    "    scale_pos_weight=1,\n",
    "    seed=27\n",
    "    )\n",
    "\n",
    "# regularization parameters ambda, alpha\n",
    "#lower learning rate and decide optimal parameters\n",
    "model_.fit(X_train, y_train)\n",
    "# make predictions for test data and evaluate\n",
    "y_pred = model_.predict(X_test)\n",
    "# get the rmse and mape of train data\n",
    "rmse_m =  np.sqrt(mean_squared_error(y_test,y_pred))\n",
    "#accuracy_m=float( np.sum(y_pred==y_test) )/y_test.shape[0]\n",
    "accuracy = accuracy_score(y_test, y_pred)\n",
    "auc_m=roc_auc_score(y_test, y_pred)\n",
    "# store the results in train_results dictionary\n",
    "pickle.dump(model_, open(\"test_0.pkl\", \"wb\"))\n",
    "loaded_model = pickle.load(open(\"test_0.pkl\", \"rb\"))\n",
    "test_results = {'predictions' : y_pred,'rmse': rmse_m,'Accuracy' : (accuracy*100) ,'AUC' :auc }"
   ]
  },
  {
   "cell_type": "code",
   "execution_count": 25,
   "id": "WBnSDwOxIZbL",
   "metadata": {
    "colab": {
     "base_uri": "https://localhost:8080/",
     "height": 294
    },
    "executionInfo": {
     "elapsed": 101,
     "status": "ok",
     "timestamp": 1624565544496,
     "user": {
      "displayName": "andrew samanika",
      "photoUrl": "",
      "userId": "06207910559096054821"
     },
     "user_tz": -120
    },
    "id": "WBnSDwOxIZbL",
    "outputId": "010d90e3-3334-47d0-e35a-2be87e2993bb"
   },
   "outputs": [
    {
     "data": {
      "image/png": "[encoded data removed]",
      "text/plain": [
       "<Figure size 432x288 with 1 Axes>"
      ]
     },
     "metadata": {
      "needs_background": "light"
     },
     "output_type": "display_data"
    }
   ],
   "source": [
    "# plot feature importance\n",
    "xgb.plot_importance(model_)\n",
    "plt.show()"
   ]
  },
  {
   "cell_type": "code",
   "execution_count": 26,
   "id": "gTaOwicBZ9fY",
   "metadata": {
    "colab": {
     "base_uri": "https://localhost:8080/"
    },
    "executionInfo": {
     "elapsed": 30003,
     "status": "ok",
     "timestamp": 1624565574415,
     "user": {
      "displayName": "andrew samanika",
      "photoUrl": "",
      "userId": "06207910559096054821"
     },
     "user_tz": -120
    },
    "id": "gTaOwicBZ9fY",
    "outputId": "501a30b5-3b3a-408d-c4cf-6cbccf870c0a"
   },
   "outputs": [
    {
     "name": "stderr",
     "output_type": "stream",
     "text": [
      "/usr/local/lib/python3.8/dist-packages/xgboost/sklearn.py:1146: UserWarning: The use of label encoder in XGBClassifier is deprecated and will be removed in a future release. To remove this warning, do the following: 1) Pass option use_label_encoder=False when constructing XGBClassifier object; and 2) Encode your labels (y) as integers starting with 0, i.e. 0, 1, 2, ..., [num_class - 1].\n",
      "  warnings.warn(label_encoder_deprecation_msg, UserWarning)\n"
     ]
    },
    {
     "name": "stdout",
     "output_type": "stream",
     "text": [
      "[23:15:58] WARNING: ../src/learner.cc:1095: Starting in XGBoost 1.3.0, the default evaluation metric used with the objective 'binary:logistic' was changed from 'error' to 'logloss'. Explicitly set eval_metric if you'd like to restore the old behavior.\n",
      "Thresh=0.000, n=5277, Accuracy: 51.52%\n"
     ]
    },
    {
     "name": "stderr",
     "output_type": "stream",
     "text": [
      "/usr/local/lib/python3.8/dist-packages/xgboost/sklearn.py:1146: UserWarning: The use of label encoder in XGBClassifier is deprecated and will be removed in a future release. To remove this warning, do the following: 1) Pass option use_label_encoder=False when constructing XGBClassifier object; and 2) Encode your labels (y) as integers starting with 0, i.e. 0, 1, 2, ..., [num_class - 1].\n",
      "  warnings.warn(label_encoder_deprecation_msg, UserWarning)\n"
     ]
    },
    {
     "name": "stdout",
     "output_type": "stream",
     "text": [
      "[23:16:30] WARNING: ../src/learner.cc:1095: Starting in XGBoost 1.3.0, the default evaluation metric used with the objective 'binary:logistic' was changed from 'error' to 'logloss'. Explicitly set eval_metric if you'd like to restore the old behavior.\n"
     ]
    }
   ],
   "source": [
    "thresholds= np.sort(model_.feature_importances_)\n",
    "init_accuracy=0.0\n",
    "for val in thresholds:\n",
    "  # use of F score as threshold for a single feature\n",
    "  from sklearn.feature_selection import SelectFromModel\n",
    "  # select features using threshold\n",
    "  selection = SelectFromModel(model_, threshold=val, prefit=True)\n",
    "  select_X_train = selection.transform(X_train)\n",
    "  # train model\n",
    "  selection_model = loaded_model\n",
    "  selection_model.fit(select_X_train, y_train)\n",
    "  # eval model\n",
    "  select_X_test = selection.transform(X_test)\n",
    "  y_pred = selection_model.predict(select_X_test)\n",
    "  predictions = [round(value) for value in y_pred]\n",
    "  accuracy = accuracy_score(y_test, predictions)\n",
    "  if accuracy > init_accuracy:\n",
    "    print(\"Thresh=%.3f, n=%d, Accuracy: %.2f%%\" % (val, select_X_train.shape[1],accuracy*100))\n",
    "    init_accuracy=accuracy\n",
    "  else:\n",
    "    break\n"
   ]
  },
  {
   "cell_type": "code",
   "execution_count": null,
   "id": "vVK_8j8ujier",
   "metadata": {
    "colab": {
     "base_uri": "https://localhost:8080/",
     "height": 364
    },
    "executionInfo": {
     "elapsed": 81711,
     "status": "ok",
     "timestamp": 1624570580935,
     "user": {
      "displayName": "andrew samanika",
      "photoUrl": "",
      "userId": "06207910559096054821"
     },
     "user_tz": -120
    },
    "id": "vVK_8j8ujier",
    "outputId": "498c6a70-a395-46fd-b2aa-f5261cb98fa8"
   },
   "outputs": [
    {
     "name": "stderr",
     "output_type": "stream",
     "text": [
      "/usr/local/lib/python3.8/dist-packages/xgboost/sklearn.py:1146: UserWarning: The use of label encoder in XGBClassifier is deprecated and will be removed in a future release. To remove this warning, do the following: 1) Pass option use_label_encoder=False when constructing XGBClassifier object; and 2) Encode your labels (y) as integers starting with 0, i.e. 0, 1, 2, ..., [num_class - 1].\n",
      "  warnings.warn(label_encoder_deprecation_msg, UserWarning)\n"
     ]
    },
    {
     "name": "stdout",
     "output_type": "stream",
     "text": [
      "[23:38:38] WARNING: ../src/learner.cc:1095: Starting in XGBoost 1.3.0, the default evaluation metric used with the objective 'binary:logistic' was changed from 'error' to 'logloss'. Explicitly set eval_metric if you'd like to restore the old behavior.\n"
     ]
    }
   ],
   "source": [
    "#lower learning rate\n",
    "xgb_model_ = xgb.XGBClassifier(\n",
    "      objective=\"binary:logistic\",\n",
    "      learning_rate=0.1,\n",
    "      n_estimators=1000,\n",
    "      max_depth=5,\n",
    "      min_child_weight=0,\n",
    "      gamma=0,\n",
    "      subsample=0.8,\n",
    "      colsample_bytree=0.8,\n",
    "      nthread=4,\n",
    "      scale_pos_weight=1,\n",
    "      seed=27,\n",
    "      reg_alpha=0 )\n",
    "xgb_model_.fit(select_X_train, y_train)\n",
    "y_pred_ = xgb_model_.predict(select_X_test)\n",
    "predictions_ = [round(value) for value in y_pred_]\n",
    "accuracy = accuracy_score(y_test, predictions_)\n",
    "print(\"Thresh=%.3f, n=%d, Accuracy: %.2f%%\" % (val, select_X_train.shape[1],accuracy*100))"
   ]
  },
  {
   "cell_type": "code",
   "execution_count": null,
   "id": "IAIdBGuNkuHn",
   "metadata": {
    "executionInfo": {
     "elapsed": 470,
     "status": "ok",
     "timestamp": 1624570637527,
     "user": {
      "displayName": "andrew samanika",
      "photoUrl": "",
      "userId": "06207910559096054821"
     },
     "user_tz": -120
    },
    "id": "IAIdBGuNkuHn"
   },
   "outputs": [],
   "source": [
    "pickle.dump(xgb_model_ , open(\"model.pkl\", \"wb\"))\n",
    "loaded_model = pickle.load(open(\"model.pkl\", \"rb\"))"
   ]
  },
  {
   "cell_type": "code",
   "execution_count": null,
   "id": "Iem4U9229KXK",
   "metadata": {
    "id": "Iem4U9229KXK"
   },
   "outputs": [],
   "source": []
  }
 ],
 "metadata": {
  "accelerator": "GPU",
  "colab": {
   "collapsed_sections": [],
   "name": "putlocker_movie_recommendation_model.ipynb",
   "provenance": []
  },
  "kernelspec": {
   "display_name": "Python 3",
   "language": "python",
   "name": "python3"
  },
  "language_info": {
   "codemirror_mode": {
    "name": "ipython",
    "version": 3
   },
   "file_extension": ".py",
   "mimetype": "text/x-python",
   "name": "python",
   "nbconvert_exporter": "python",
   "pygments_lexer": "ipython3",
   "version": "3.8.5"
  }
 },
 "nbformat": 4,
 "nbformat_minor": 5
}
